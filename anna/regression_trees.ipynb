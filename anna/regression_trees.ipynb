{
 "cells": [
  {
   "cell_type": "markdown",
   "metadata": {},
   "source": [
    "# Import all the necessary packages"
   ]
  },
  {
   "cell_type": "code",
   "execution_count": 11,
   "metadata": {
    "pycharm": {
     "name": "#%%\n"
    }
   },
   "outputs": [],
   "source": [
    "import pandas as pd\n",
    "import glob\n",
    "import seaborn as sns\n",
    "from sklearn.preprocessing import MinMaxScaler\n",
    "from sklearn.model_selection import train_test_split\n",
    "from sklearn.tree import DecisionTreeRegressor\n",
    "from sklearn.metrics import mean_squared_error\n",
    "import math\n",
    "import matplotlib.pyplot as plt"
   ]
  },
  {
   "cell_type": "markdown",
   "metadata": {},
   "source": [
    "# Load the data"
   ]
  },
  {
   "cell_type": "code",
   "execution_count": 2,
   "metadata": {},
   "outputs": [
    {
     "data": {
      "text/plain": [
       "array(['ID_123.csv', 'ID_733.csv', 'ID_843.csv', 'ID_871.csv',\n",
       "       'ID_387.csv', 'ID_600.csv', 'ID_474.csv', 'ID_8.csv', 'ID_509.csv',\n",
       "       'ID_519.csv', 'ID_676.csv', 'ID_360.csv', 'ID_361.csv',\n",
       "       'ID_827.csv', 'ID_554.csv', 'ID_290.csv', 'ID_742.csv',\n",
       "       'ID_667.csv', 'ID_89.csv', 'ID_690.csv', 'ID_493.csv',\n",
       "       'ID_171.csv', 'ID_665.csv', 'ID_600.csv', 'ID_137.csv',\n",
       "       'ID_874.csv', 'ID_188.csv', 'ID_86.csv', 'ID_301.csv',\n",
       "       'ID_388.csv', 'ID_304.csv', 'ID_156.csv', 'ID_750.csv',\n",
       "       'ID_474.csv', 'ID_70.csv', 'ID_24.csv', 'ID_517.csv', 'ID_561.csv',\n",
       "       'ID_570.csv', 'ID_773.csv', 'ID_621.csv', 'ID_869.csv',\n",
       "       'ID_760.csv', 'ID_380.csv', 'ID_542.csv', 'ID_514.csv',\n",
       "       'ID_234.csv', 'ID_382.csv', 'ID_259.csv', 'ID_72.csv',\n",
       "       'ID_286.csv', 'ID_867.csv', 'ID_879.csv', 'ID_786.csv',\n",
       "       'ID_712.csv', 'ID_49.csv', 'ID_713.csv', 'ID_437.csv',\n",
       "       'ID_393.csv', 'ID_834.csv', 'ID_121.csv', 'ID_720.csv',\n",
       "       'ID_715.csv', 'ID_583.csv', 'ID_205.csv', 'ID_223.csv',\n",
       "       'ID_476.csv', 'ID_270.csv', 'ID_689.csv', 'ID_457.csv',\n",
       "       'ID_602.csv', 'ID_34.csv', 'ID_824.csv', 'ID_255.csv',\n",
       "       'ID_759.csv', 'ID_827.csv', 'ID_593.csv', 'ID_37.csv',\n",
       "       'ID_124.csv', 'ID_448.csv', 'ID_535.csv', 'ID_659.csv',\n",
       "       'ID_219.csv', 'ID_762.csv', 'ID_172.csv', 'ID_452.csv',\n",
       "       'ID_473.csv', 'ID_328.csv', 'ID_34.csv', 'ID_438.csv',\n",
       "       'ID_407.csv', 'ID_585.csv', 'ID_118.csv', 'ID_107.csv',\n",
       "       'ID_228.csv', 'ID_454.csv', 'ID_618.csv', 'ID_461.csv',\n",
       "       'ID_187.csv', 'ID_800.csv'], dtype='<U10')"
      ]
     },
     "execution_count": 2,
     "metadata": {},
     "output_type": "execute_result"
    }
   ],
   "source": [
    "import numpy as np\n",
    "import os\n",
    "\n",
    "# List all files in dir\n",
    "files = os.listdir('/Users/annastonek/Desktop/Studium Unterlagen/AI_ML_Climate_Change/LamaH-CE/A_basins_total_upstrm/2_timeseries/daily')\n",
    "\n",
    "# Select 0.5 of the files randomly \n",
    "random_files = np.random.choice(files, 100)\n",
    "random_files"
   ]
  },
  {
   "cell_type": "code",
   "execution_count": 3,
   "metadata": {
    "pycharm": {
     "name": "#%%\n"
    }
   },
   "outputs": [],
   "source": [
    "# Get CSV files list from a folder\n",
    "path = '/Users/annastonek/Desktop/Studium Unterlagen/AI_ML_Climate_Change/LamaH-CE/A_basins_total_upstrm/2_timeseries/daily/'\n",
    "csv_files = []\n",
    "for x in random_files:\n",
    "    csv_files.append(os.path.join(path, x))\n",
    "\n",
    "# Read each CSV file into DataFrame\n",
    "# This creates a list of dataframes\n",
    "counter = 0\n",
    "df_list = []\n",
    "for file in csv_files:\n",
    "    aux = pd.read_csv(file, sep=';')\n",
    "    aux['Region'] = counter\n",
    "    df_list.append(aux)\n",
    "    counter = counter + 1"
   ]
  },
  {
   "cell_type": "markdown",
   "metadata": {},
   "source": [
    "# Pipeline"
   ]
  },
  {
   "cell_type": "markdown",
   "metadata": {},
   "source": [
    "Now, we will create a regression tree from every dataset in the list and calculate the predictions."
   ]
  },
  {
   "cell_type": "code",
   "execution_count": 25,
   "metadata": {},
   "outputs": [],
   "source": [
    "predictions = []\n",
    "target_values = []\n",
    "mses = []\n",
    "feature_importances = []\n",
    "for df in df_list:\n",
    "    # separate the target column from the feature columns\n",
    "    y = df[['prec']]\n",
    "    X = df.drop(['prec', '2m_temp_min', '2m_temp_max', '2m_dp_temp_min', '2m_dp_temp_mean', '2m_dp_temp_max'], axis=1)\n",
    "    # split the data\n",
    "    X_train, X_test, y_train, y_test = train_test_split(X, y, test_size=0.3, random_state=42)\n",
    "    \n",
    "    # preprocessing - scale the data\n",
    "    scaler = MinMaxScaler()\n",
    "    X_train[['2m_temp_mean', '10m_wind_u', '10m_wind_v',\n",
    "       'fcst_alb', 'lai_high_veg', 'lai_low_veg', 'swe',\n",
    "       'surf_net_solar_rad_max', 'surf_net_solar_rad_mean',\n",
    "       'surf_net_therm_rad_max', 'surf_net_therm_rad_mean', 'surf_press',\n",
    "       'total_et', 'volsw_123', 'volsw_4']] = scaler.fit_transform(X_train[['2m_temp_mean', '10m_wind_u', '10m_wind_v',\n",
    "       'fcst_alb', 'lai_high_veg', 'lai_low_veg', 'swe',\n",
    "       'surf_net_solar_rad_max', 'surf_net_solar_rad_mean',\n",
    "       'surf_net_therm_rad_max', 'surf_net_therm_rad_mean', 'surf_press',\n",
    "       'total_et', 'volsw_123', 'volsw_4']])\n",
    "\n",
    "    \n",
    "\n",
    "    X_test[['2m_temp_mean', '10m_wind_u', '10m_wind_v',\n",
    "       'fcst_alb', 'lai_high_veg', 'lai_low_veg', 'swe',\n",
    "       'surf_net_solar_rad_max', 'surf_net_solar_rad_mean',\n",
    "       'surf_net_therm_rad_max', 'surf_net_therm_rad_mean', 'surf_press',\n",
    "       'total_et', 'volsw_123', 'volsw_4']] = scaler.transform(X_test[['2m_temp_mean', '10m_wind_u', '10m_wind_v',\n",
    "       'fcst_alb', 'lai_high_veg', 'lai_low_veg', 'swe',\n",
    "       'surf_net_solar_rad_max', 'surf_net_solar_rad_mean',\n",
    "       'surf_net_therm_rad_max', 'surf_net_therm_rad_mean', 'surf_press',\n",
    "       'total_et', 'volsw_123', 'volsw_4']])\n",
    "\n",
    "    \n",
    "    \n",
    "    #build tree\n",
    "    tree = DecisionTreeRegressor().fit(X_train, y_train)\n",
    "    feature_importances.append(tree.feature_importances_)\n",
    "    #calculate predictions\n",
    "    y_pred = tree.predict(X_test)\n",
    "    \n",
    "    \n",
    "    mses.append(mean_squared_error(y_test, y_pred))\n",
    "    predictions.append(y_pred)\n",
    "    target_values.append(y_test)"
   ]
  },
  {
   "cell_type": "markdown",
   "metadata": {},
   "source": [
    "# Evaluation"
   ]
  },
  {
   "cell_type": "code",
   "execution_count": 5,
   "metadata": {
    "pycharm": {
     "name": "#%%\n"
    }
   },
   "outputs": [
    {
     "name": "stdout",
     "output_type": "stream",
     "text": [
      "MSE:  24.697335161675245\n",
      "RMSE:  4.969641351413122\n"
     ]
    }
   ],
   "source": [
    "print(\"MSE: \", np.mean(mses))\n",
    "print(\"RMSE: \", math.sqrt(np.mean(mses)))"
   ]
  },
  {
   "cell_type": "markdown",
   "source": [
    "## Evaluation - 2nd way"
   ],
   "metadata": {
    "collapsed": false
   }
  },
  {
   "cell_type": "code",
   "execution_count": null,
   "outputs": [],
   "source": [
    "pred_mean = pd.DataFrame(predictions).mean()\n",
    "\n",
    "test_mean = []\n",
    "for i in range(len(target_values)):\n",
    "    test_mean.append(target_values[i]['prec'])\n",
    "\n",
    "target_mean = pd.DataFrame(test_mean).mean()\n",
    "\n",
    "print(\"MSE: \", mean_squared_error(target_mean, pred_mean))\n",
    "print(\"RMSE: \", math.sqrt(mean_squared_error(target_mean, pred_mean)))"
   ],
   "metadata": {
    "collapsed": false,
    "pycharm": {
     "name": "#%%\n"
    }
   }
  },
  {
   "cell_type": "markdown",
   "source": [
    "# Feature Importance Analysis"
   ],
   "metadata": {
    "collapsed": false
   }
  },
  {
   "cell_type": "code",
   "execution_count": null,
   "outputs": [],
   "source": [
    "feature_names = [f\"feature {i}\" for i in range(X.shape[1])]\n",
    "\n",
    "forest_importances = pd.DataFrame(feature_importances).T\n",
    "forest_importances['features']= (['2m_temp_max', '2m_temp_mean', '2m_temp_min', '2m_dp_temp_max',\n",
    "       '2m_dp_temp_mean', '2m_dp_temp_min', '10m_wind_u', '10m_wind_v',\n",
    "       'fcst_alb', 'lai_high_veg', 'lai_low_veg', 'swe',\n",
    "       'surf_net_solar_rad_max', 'surf_net_solar_rad_mean',\n",
    "       'surf_net_therm_rad_max', 'surf_net_therm_rad_mean', 'surf_press',\n",
    "       'total_et', 'volsw_123', 'volsw_4'])\n",
    "\n",
    "forest_importances.set_index('features', inplace=True)\n",
    "\n",
    "sns.barplot(forest_importances.mean(axis=1)).set_title(\"Mean Feature Importance Over 100 Regression Trees\")\n",
    "plt.ylabel(\"Mean decrease in impurity\")\n",
    "plt.xticks(rotation=90)\n",
    "plt.show()"
   ],
   "metadata": {
    "collapsed": false,
    "pycharm": {
     "name": "#%%\n"
    }
   }
  },
  {
   "cell_type": "markdown",
   "metadata": {},
   "source": []
  },
  {
   "cell_type": "code",
   "execution_count": 6,
   "metadata": {},
   "outputs": [
    {
     "name": "stdout",
     "output_type": "stream",
     "text": [
      "MSE:  3.7333807437552644\n",
      "RMSE:  1.9321958347318897\n"
     ]
    }
   ],
   "source": [
    "pred_mean = pd.DataFrame(predictions).mean()\n",
    "\n",
    "test_mean = []\n",
    "for i in range(len(target_values)):\n",
    "    test_mean.append(target_values[i]['prec'])\n",
    "\n",
    "target_mean = pd.DataFrame(test_mean).mean()\n",
    "\n",
    "print(\"MSE: \", mean_squared_error(target_mean, pred_mean))\n",
    "print(\"RMSE: \", math.sqrt(mean_squared_error(target_mean, pred_mean)))"
   ]
  },
  {
   "cell_type": "markdown",
   "metadata": {},
   "source": [
    "# Feature Importance Analysis"
   ]
  },
  {
   "cell_type": "code",
   "execution_count": 73,
   "metadata": {},
   "outputs": [
    {
     "data": {
      "image/png": "[encoded data removed]",
      "text/plain": [
       "<Figure size 640x480 with 1 Axes>"
      ]
     },
     "metadata": {},
     "output_type": "display_data"
    }
   ],
   "source": [
    "feature_names = [f\"feature {i}\" for i in range(X.shape[1])]\n",
    "\n",
    "forest_importances = pd.DataFrame(feature_importances).T\n",
    "forest_importances['features']= (['2m_temp_max', '2m_temp_mean', '2m_temp_min', '2m_dp_temp_max',\n",
    "       '2m_dp_temp_mean', '2m_dp_temp_min', '10m_wind_u', '10m_wind_v',\n",
    "       'fcst_alb', 'lai_high_veg', 'lai_low_veg', 'swe',\n",
    "       'surf_net_solar_rad_max', 'surf_net_solar_rad_mean',\n",
    "       'surf_net_therm_rad_max', 'surf_net_therm_rad_mean', 'surf_press',\n",
    "       'total_et', 'volsw_123', 'volsw_4'])\n",
    "\n",
    "forest_importances.set_index('features', inplace=True)\n",
    "\n",
    "sns.barplot(forest_importances.mean(axis=1)).set_title(\"Mean Feature Importance Over 100 Regression Trees\")\n",
    "plt.ylabel(\"Mean decrease in impurity\")\n",
    "plt.xticks(rotation=90)\n",
    "plt.show()"
   ]
  },
  {
   "cell_type": "code",
   "execution_count": null,
   "metadata": {},
   "outputs": [],
   "source": []
  }
 ],
 "metadata": {
  "kernelspec": {
   "display_name": "Python 3 (ipykernel)",
   "language": "python",
   "name": "python3"
  },
  "language_info": {
   "codemirror_mode": {
    "name": "ipython",
    "version": 3
   },
   "file_extension": ".py",
   "mimetype": "text/x-python",
   "name": "python",
   "nbconvert_exporter": "python",
   "pygments_lexer": "ipython3",
   "version": "3.8.19"
  }
 },
 "nbformat": 4,
 "nbformat_minor": 1
}